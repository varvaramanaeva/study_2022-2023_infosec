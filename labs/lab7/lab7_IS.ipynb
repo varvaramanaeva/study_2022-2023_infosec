{
 "cells": [
  {
   "cell_type": "code",
   "execution_count": 10,
   "outputs": [],
   "source": [
    "import random\n",
    "import string\n",
    "\n",
    "def russian_present(text):\n",
    "    if text[0] in string.ascii_lowercase:\n",
    "        return string.ascii_lowercase+string.digits\n",
    "    else:\n",
    "        return \"абвгдеёжзийклмнопрстуфхцчшщъыьэюя\"+string.ascii_lowercase+string.digits\n",
    "\n",
    "\n",
    "def key_create(s, alf):\n",
    "    k = \"\".join(random.choice(alf) for _ in range(s))\n",
    "    return k\n",
    "\n",
    "\n",
    "def hex_coder(cod):\n",
    "    return \" \".join(hex(ord(i))[2:] for i in cod)\n",
    "\n",
    "\n",
    "def string_coder(text, k):\n",
    "    return \"\".join(chr(ord(c) ^ ord(k)) for c, k in zip(text, k))\n",
    "\n",
    "\n",
    "def find_plaintext(text, fragment):\n",
    "    key_length = len(fragment)\n",
    "    possible_keys = []\n",
    "    for i in range(len(text) - key_length + 1):\n",
    "        key = [chr(ord(c) ^ ord(k)) for c, k in zip(text[i:i + key_length], fragment)]\n",
    "        intact_plaintext = string_coder(text, key)\n",
    "        if fragment in intact_plaintext:\n",
    "            possible_keys.append(''.join(key))\n",
    "    return possible_keys"
   ],
   "metadata": {
    "collapsed": false,
    "ExecuteTime": {
     "end_time": "2023-10-21T11:59:00.909178300Z",
     "start_time": "2023-10-21T11:59:00.892504400Z"
    }
   },
   "id": "4aca14f6a25d03d6"
  },
  {
   "cell_type": "code",
   "execution_count": 11,
   "outputs": [
    {
     "name": "stdout",
     "output_type": "stream",
     "text": [
      "Ключ: dы3l297уjvqrrxкwёщжm8г\n",
      "Ключ в 16 бит: 64 44b 33 6c 32 39 37 443 6a 76 71 72 72 78 43a 77 451 449 436 6d 38 433\n",
      "Зашифрованный текст: хѫЮђЀѲЋѣљшхьюTКу\u0011\n",
      "\u0001СѷВ\n",
      "Зашифрованный текст в 16 бит: 445 46b 42e 452 400 472 40b 463 459 448 445 44c 44e 54 41a 443 11 a 1 421 477 412\n",
      "Расшифрованный текст: С Новым годом, друзья!\n"
     ]
    }
   ],
   "source": [
    "plaintext = \"С Новым годом, друзья!\"\n",
    "size = len(plaintext)\n",
    "leng = russian_present(plaintext)\n",
    "key = key_create(size, leng)\n",
    "print(f\"Ключ: {key}\\nКлюч в 16 бит: {hex_coder(key)}\")\n",
    "ciphertext = string_coder(plaintext, key)\n",
    "print(f\"Зашифрованный текст: {ciphertext}\\nЗашифрованный текст в 16 бит: {hex_coder(ciphertext)}\")\n",
    "decryptedtext = string_coder(ciphertext, key)\n",
    "print(\"Расшифрованный текст:\", decryptedtext)"
   ],
   "metadata": {
    "collapsed": false,
    "ExecuteTime": {
     "end_time": "2023-10-21T11:59:00.930028400Z",
     "start_time": "2023-10-21T11:59:00.904203200Z"
    }
   },
   "id": "918f9b0936dd8921"
  },
  {
   "cell_type": "code",
   "execution_count": 12,
   "outputs": [
    {
     "name": "stdout",
     "output_type": "stream",
     "text": [
      "Возможные ключи для шифротекста:\n",
      " ['vU\\x1al<']\n"
     ]
    }
   ],
   "source": [
    "known_fragment = \"годом\"\n",
    "possible_keys = find_plaintext(ciphertext, known_fragment)\n",
    "print(\"Возможные ключи для шифротекста:\\n\", possible_keys)"
   ],
   "metadata": {
    "collapsed": false,
    "ExecuteTime": {
     "end_time": "2023-10-21T11:59:00.931027700Z",
     "start_time": "2023-10-21T11:59:00.913190200Z"
    }
   },
   "id": "26c550e9f1d94e7"
  }
 ],
 "metadata": {
  "kernelspec": {
   "display_name": "Python 3",
   "language": "python",
   "name": "python3"
  },
  "language_info": {
   "codemirror_mode": {
    "name": "ipython",
    "version": 2
   },
   "file_extension": ".py",
   "mimetype": "text/x-python",
   "name": "python",
   "nbconvert_exporter": "python",
   "pygments_lexer": "ipython2",
   "version": "2.7.6"
  }
 },
 "nbformat": 4,
 "nbformat_minor": 5
}
