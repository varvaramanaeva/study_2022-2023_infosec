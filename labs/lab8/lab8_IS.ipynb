{
 "cells": [
  {
   "cell_type": "code",
   "execution_count": 45,
   "id": "initial_id",
   "metadata": {
    "collapsed": true,
    "ExecuteTime": {
     "end_time": "2023-10-21T12:16:38.707089600Z",
     "start_time": "2023-10-21T12:16:38.684461400Z"
    }
   },
   "outputs": [],
   "source": [
    "import random\n",
    "import string\n",
    "\n",
    "\n",
    "def key_create(s, alf):\n",
    "    k = ''.join(random.choice(alf) for i in range(s))\n",
    "    return k\n",
    "\n",
    "\n",
    "def hex_coder(cod):\n",
    "    return ' '.join(hex(ord(i))[2:] for i in cod)\n",
    "\n",
    "def string_coder(text, k, i_num):\n",
    "    if i_num == 1:\n",
    "        return ''.join(chr(ord(c) ^ ord(k)) for c, k in zip(text, k))\n",
    "    else:\n",
    "        return [''.join(chr(ord(c) ^ ord(k)) for c, k in zip(t, k)) for t in text]\n",
    "\n",
    "\n",
    "def find_key(cypher, texts, s):\n",
    "    possible_keys = []\n",
    "    for f in range(len(texts)):\n",
    "        for i in range(len(cypher[f]) - s + 1):\n",
    "            key = [chr(ord(c) ^ ord(k)) for c, k in zip(cypher[f][i:i + s], texts[f])]\n",
    "            intact_plaintext = string_coder(cypher[f], key, 1)\n",
    "            if texts[f] in intact_plaintext:\n",
    "                possible_keys.append(''.join(key))\n",
    "    return possible_keys"
   ]
  },
  {
   "cell_type": "code",
   "execution_count": 46,
   "outputs": [
    {
     "name": "stdout",
     "output_type": "stream",
     "text": [
      "Изначальное сообщение P1: Literature is an interesting subject indeed\n",
      "Изначальное сообщение P2: ёцпшo5bлнrьшoжzабкве6щошбje1цhулoнё82йgqшvш\n",
      "Зашифрованное сообщение C1: ѷP\u001A\u0016@Шы\u0013юљ\u0017ЪBѦЫЩS\u0011Ус\u0001щVнMѝп\u0012Aн\u0003Ц\tЫ\u0019\u0001N\u0000ЫT\u0007СT\n",
      "В 16 бит  477 50 1a 16 40 428 44b 13 44e 459 17 42a 42 466 42b 429 53 11 423 441 1 449 56 43d 4d 45d 43f 12 41 43d 3 426 9 42b 19 1 4e 0 42b 54 7 421 54\n",
      "Зашифрованное сообщение C2: jѿёл]Ѽѝѝ\u0001юѻ\u000B^pаwтт\u0000RrЍ\u0006ЈўдDЧЦе\fsЫM\\ѐТAЪвѸ\n",
      "В 16 бит  6a 47f 451 43b 5d 47c 45d 45d 1 44e 47b b 5e 70 430 77 442 442 7f 0 52 72 40d 6 408 45e 434 44 427 426 435 7f c 73 42b 4d 5c 450 422 41 42a 432 478\n"
     ]
    }
   ],
   "source": [
    "P1 = \"Literature is an interesting subject indeed\"\n",
    "size = len(P1)\n",
    "alf = \"абвгдеёжзийклмнопрстуфхцчшщъыьэюя\"+string.ascii_lowercase+string.digits\n",
    "P2 = key_create(size, alf)\n",
    "C1, C2 = string_coder([P1, P2], key_create(size, alf), 2)\n",
    "print(f\"Изначальное сообщение P1: {P1}\\nИзначальное сообщение P2: {P2}\")\n",
    "print(f\"Зашифрованное сообщение C1: {C1}\\n\",f\"В 16 бит  {hex_coder(C1)}\\n\",f\"Зашифрованное сообщение C2: {C2}\\n\",f\"В 16 бит  {hex_coder(C2)}\", sep=\"\")"
   ],
   "metadata": {
    "collapsed": false,
    "ExecuteTime": {
     "end_time": "2023-10-21T12:16:38.708091100Z",
     "start_time": "2023-10-21T12:16:38.693219800Z"
    }
   },
   "id": "2a78ba546aa1c4b1"
  },
  {
   "cell_type": "code",
   "execution_count": 47,
   "outputs": [
    {
     "name": "stdout",
     "output_type": "stream",
     "text": [
      "Возможные ключи для шифротекста: ['л9ns2щпfмм7у1цъчsxэеdл3ю9дёuaюvфcюzuniх0bф0', 'л9ns2щпfмм7у1цъчsxэеdл3ю9дёuaюvфcюzuniх0bф0']\n"
     ]
    }
   ],
   "source": [
    "possible_keys = find_key([C1, C2], [P1, P2], size)\n",
    "print(\"Возможные ключи для шифротекста:\", possible_keys)"
   ],
   "metadata": {
    "collapsed": false,
    "ExecuteTime": {
     "end_time": "2023-10-21T12:16:38.746922900Z",
     "start_time": "2023-10-21T12:16:38.705091500Z"
    }
   },
   "id": "907adf2456cd527c"
  },
  {
   "cell_type": "code",
   "execution_count": 48,
   "outputs": [
    {
     "name": "stdout",
     "output_type": "stream",
     "text": [
      "Расшифрованный текст:\n",
      "ѷP\u001A\u0016@Шы\u0013юљ\u0017ЪBѦЫЩS\u0011Ус\u0001щVнMѝп\u0012Aн\u0003Ц\tЫ\u0019\u0001N\u0000ЫT\u0007СT\n",
      "=>\n",
      "Literature is an interesting subject indeed\n",
      "\n",
      "jѿёл]Ѽѝѝ\u0001юѻ\u000B^pаwтт\u0000RrЍ\u0006ЈўдDЧЦе\fsЫM\\ѐТAЪвѸ\n",
      "=>\n",
      "ёцпшo5bлнrьшoжzабкве6щошбje1цhулoнё82йgqшvш\n"
     ]
    }
   ],
   "source": [
    "D1, D2 = string_coder([C1, C2], possible_keys[-1], 2)\n",
    "print(f\"Расшифрованный текст:\\n{C1}\\n=>\\n{D1}\\n\\n{C2}\\n=>\\n{D2}\")"
   ],
   "metadata": {
    "collapsed": false,
    "ExecuteTime": {
     "end_time": "2023-10-21T12:16:38.747917400Z",
     "start_time": "2023-10-21T12:16:38.716006300Z"
    }
   },
   "id": "c8f8583a3bd37769"
  }
 ],
 "metadata": {
  "kernelspec": {
   "display_name": "Python 3",
   "language": "python",
   "name": "python3"
  },
  "language_info": {
   "codemirror_mode": {
    "name": "ipython",
    "version": 2
   },
   "file_extension": ".py",
   "mimetype": "text/x-python",
   "name": "python",
   "nbconvert_exporter": "python",
   "pygments_lexer": "ipython2",
   "version": "2.7.6"
  }
 },
 "nbformat": 4,
 "nbformat_minor": 5
}
